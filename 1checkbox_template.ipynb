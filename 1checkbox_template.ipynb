{
  "nbformat": 4,
  "nbformat_minor": 0,
  "metadata": {
    "colab": {
      "name": "1checkbox_template.ipynb",
      "provenance": [],
      "include_colab_link": true
    },
    "kernelspec": {
      "display_name": "Python 3",
      "language": "python",
      "name": "python3"
    },
    "language_info": {
      "codemirror_mode": {
        "name": "ipython",
        "version": 3
      },
      "file_extension": ".py",
      "mimetype": "text/x-python",
      "name": "python",
      "nbconvert_exporter": "python",
      "pygments_lexer": "ipython3",
      "version": "3.7.4"
    },
    "widgets": {
      "application/vnd.jupyter.widget-state+json": {
        "e18ecb6729ee4ca382c04063d18f9636": {
          "model_module": "@jupyter-widgets/controls",
          "model_name": "CheckboxModel",
          "state": {
            "_view_name": "CheckboxView",
            "style": "IPY_MODEL_570cf76a1cb04e139afac7cd3ec1c90c",
            "_dom_classes": [],
            "description": "greyscale",
            "_model_name": "CheckboxModel",
            "_view_module": "@jupyter-widgets/controls",
            "_model_module_version": "1.5.0",
            "value": true,
            "_view_count": null,
            "disabled": false,
            "_view_module_version": "1.5.0",
            "indent": false,
            "description_tooltip": null,
            "_model_module": "@jupyter-widgets/controls",
            "layout": "IPY_MODEL_383a503958024f599d662b819dbbc1dc"
          }
        },
        "570cf76a1cb04e139afac7cd3ec1c90c": {
          "model_module": "@jupyter-widgets/controls",
          "model_name": "DescriptionStyleModel",
          "state": {
            "_view_name": "StyleView",
            "_model_name": "DescriptionStyleModel",
            "description_width": "",
            "_view_module": "@jupyter-widgets/base",
            "_model_module_version": "1.5.0",
            "_view_count": null,
            "_view_module_version": "1.2.0",
            "_model_module": "@jupyter-widgets/controls"
          }
        },
        "383a503958024f599d662b819dbbc1dc": {
          "model_module": "@jupyter-widgets/base",
          "model_name": "LayoutModel",
          "state": {
            "_view_name": "LayoutView",
            "grid_template_rows": null,
            "right": null,
            "justify_content": null,
            "_view_module": "@jupyter-widgets/base",
            "overflow": null,
            "_model_module_version": "1.2.0",
            "_view_count": null,
            "flex_flow": null,
            "width": null,
            "min_width": null,
            "border": null,
            "align_items": null,
            "bottom": null,
            "_model_module": "@jupyter-widgets/base",
            "top": null,
            "grid_column": null,
            "overflow_y": null,
            "overflow_x": null,
            "grid_auto_flow": null,
            "grid_area": null,
            "grid_template_columns": null,
            "flex": null,
            "_model_name": "LayoutModel",
            "justify_items": null,
            "grid_row": null,
            "max_height": null,
            "align_content": null,
            "visibility": null,
            "align_self": null,
            "height": null,
            "min_height": null,
            "padding": null,
            "grid_auto_rows": null,
            "grid_gap": null,
            "max_width": null,
            "order": null,
            "_view_module_version": "1.2.0",
            "grid_template_areas": null,
            "object_position": null,
            "object_fit": null,
            "grid_auto_columns": null,
            "margin": null,
            "display": null,
            "left": null
          }
        },
        "50e54e79b7de4d88995fde118f78259f": {
          "model_module": "@jupyter-widgets/controls",
          "model_name": "CheckboxModel",
          "state": {
            "_view_name": "CheckboxView",
            "style": "IPY_MODEL_cc49e5596c9b420b8bfb068dcfb8ec40",
            "_dom_classes": [],
            "description": "resize",
            "_model_name": "CheckboxModel",
            "_view_module": "@jupyter-widgets/controls",
            "_model_module_version": "1.5.0",
            "value": true,
            "_view_count": null,
            "disabled": false,
            "_view_module_version": "1.5.0",
            "indent": false,
            "description_tooltip": null,
            "_model_module": "@jupyter-widgets/controls",
            "layout": "IPY_MODEL_ae3cfbbb4dee455b800172a7d6921c1f"
          }
        },
        "cc49e5596c9b420b8bfb068dcfb8ec40": {
          "model_module": "@jupyter-widgets/controls",
          "model_name": "DescriptionStyleModel",
          "state": {
            "_view_name": "StyleView",
            "_model_name": "DescriptionStyleModel",
            "description_width": "",
            "_view_module": "@jupyter-widgets/base",
            "_model_module_version": "1.5.0",
            "_view_count": null,
            "_view_module_version": "1.2.0",
            "_model_module": "@jupyter-widgets/controls"
          }
        },
        "ae3cfbbb4dee455b800172a7d6921c1f": {
          "model_module": "@jupyter-widgets/base",
          "model_name": "LayoutModel",
          "state": {
            "_view_name": "LayoutView",
            "grid_template_rows": null,
            "right": null,
            "justify_content": null,
            "_view_module": "@jupyter-widgets/base",
            "overflow": null,
            "_model_module_version": "1.2.0",
            "_view_count": null,
            "flex_flow": null,
            "width": null,
            "min_width": null,
            "border": null,
            "align_items": null,
            "bottom": null,
            "_model_module": "@jupyter-widgets/base",
            "top": null,
            "grid_column": null,
            "overflow_y": null,
            "overflow_x": null,
            "grid_auto_flow": null,
            "grid_area": null,
            "grid_template_columns": null,
            "flex": null,
            "_model_name": "LayoutModel",
            "justify_items": null,
            "grid_row": null,
            "max_height": null,
            "align_content": null,
            "visibility": null,
            "align_self": null,
            "height": null,
            "min_height": null,
            "padding": null,
            "grid_auto_rows": null,
            "grid_gap": null,
            "max_width": null,
            "order": null,
            "_view_module_version": "1.2.0",
            "grid_template_areas": null,
            "object_position": null,
            "object_fit": null,
            "grid_auto_columns": null,
            "margin": null,
            "display": null,
            "left": null
          }
        },
        "eb6e5805cf5740edaf62a206735c61ee": {
          "model_module": "@jupyter-widgets/controls",
          "model_name": "CheckboxModel",
          "state": {
            "_view_name": "CheckboxView",
            "style": "IPY_MODEL_08ba1cdb462a4bd5b7775a17227732bd",
            "_dom_classes": [],
            "description": "normalize",
            "_model_name": "CheckboxModel",
            "_view_module": "@jupyter-widgets/controls",
            "_model_module_version": "1.5.0",
            "value": true,
            "_view_count": null,
            "disabled": false,
            "_view_module_version": "1.5.0",
            "indent": false,
            "description_tooltip": null,
            "_model_module": "@jupyter-widgets/controls",
            "layout": "IPY_MODEL_9c2c1204e30f47e49b2f5c0840a665a6"
          }
        },
        "08ba1cdb462a4bd5b7775a17227732bd": {
          "model_module": "@jupyter-widgets/controls",
          "model_name": "DescriptionStyleModel",
          "state": {
            "_view_name": "StyleView",
            "_model_name": "DescriptionStyleModel",
            "description_width": "",
            "_view_module": "@jupyter-widgets/base",
            "_model_module_version": "1.5.0",
            "_view_count": null,
            "_view_module_version": "1.2.0",
            "_model_module": "@jupyter-widgets/controls"
          }
        },
        "9c2c1204e30f47e49b2f5c0840a665a6": {
          "model_module": "@jupyter-widgets/base",
          "model_name": "LayoutModel",
          "state": {
            "_view_name": "LayoutView",
            "grid_template_rows": null,
            "right": null,
            "justify_content": null,
            "_view_module": "@jupyter-widgets/base",
            "overflow": null,
            "_model_module_version": "1.2.0",
            "_view_count": null,
            "flex_flow": null,
            "width": null,
            "min_width": null,
            "border": null,
            "align_items": null,
            "bottom": null,
            "_model_module": "@jupyter-widgets/base",
            "top": null,
            "grid_column": null,
            "overflow_y": null,
            "overflow_x": null,
            "grid_auto_flow": null,
            "grid_area": null,
            "grid_template_columns": null,
            "flex": null,
            "_model_name": "LayoutModel",
            "justify_items": null,
            "grid_row": null,
            "max_height": null,
            "align_content": null,
            "visibility": null,
            "align_self": null,
            "height": null,
            "min_height": null,
            "padding": null,
            "grid_auto_rows": null,
            "grid_gap": null,
            "max_width": null,
            "order": null,
            "_view_module_version": "1.2.0",
            "grid_template_areas": null,
            "object_position": null,
            "object_fit": null,
            "grid_auto_columns": null,
            "margin": null,
            "display": null,
            "left": null
          }
        },
        "88e80674acd244ee9ecc598d1bd95026": {
          "model_module": "@jupyter-widgets/controls",
          "model_name": "CheckboxModel",
          "state": {
            "_view_name": "CheckboxView",
            "style": "IPY_MODEL_86966b506c8047cd9849b38fd54ef614",
            "_dom_classes": [],
            "description": "gaussian",
            "_model_name": "CheckboxModel",
            "_view_module": "@jupyter-widgets/controls",
            "_model_module_version": "1.5.0",
            "value": true,
            "_view_count": null,
            "disabled": false,
            "_view_module_version": "1.5.0",
            "indent": false,
            "description_tooltip": null,
            "_model_module": "@jupyter-widgets/controls",
            "layout": "IPY_MODEL_ee6236bfcf8545d49538dc28f352d69a"
          }
        },
        "86966b506c8047cd9849b38fd54ef614": {
          "model_module": "@jupyter-widgets/controls",
          "model_name": "DescriptionStyleModel",
          "state": {
            "_view_name": "StyleView",
            "_model_name": "DescriptionStyleModel",
            "description_width": "",
            "_view_module": "@jupyter-widgets/base",
            "_model_module_version": "1.5.0",
            "_view_count": null,
            "_view_module_version": "1.2.0",
            "_model_module": "@jupyter-widgets/controls"
          }
        },
        "ee6236bfcf8545d49538dc28f352d69a": {
          "model_module": "@jupyter-widgets/base",
          "model_name": "LayoutModel",
          "state": {
            "_view_name": "LayoutView",
            "grid_template_rows": null,
            "right": null,
            "justify_content": null,
            "_view_module": "@jupyter-widgets/base",
            "overflow": null,
            "_model_module_version": "1.2.0",
            "_view_count": null,
            "flex_flow": null,
            "width": null,
            "min_width": null,
            "border": null,
            "align_items": null,
            "bottom": null,
            "_model_module": "@jupyter-widgets/base",
            "top": null,
            "grid_column": null,
            "overflow_y": null,
            "overflow_x": null,
            "grid_auto_flow": null,
            "grid_area": null,
            "grid_template_columns": null,
            "flex": null,
            "_model_name": "LayoutModel",
            "justify_items": null,
            "grid_row": null,
            "max_height": null,
            "align_content": null,
            "visibility": null,
            "align_self": null,
            "height": null,
            "min_height": null,
            "padding": null,
            "grid_auto_rows": null,
            "grid_gap": null,
            "max_width": null,
            "order": null,
            "_view_module_version": "1.2.0",
            "grid_template_areas": null,
            "object_position": null,
            "object_fit": null,
            "grid_auto_columns": null,
            "margin": null,
            "display": null,
            "left": null
          }
        },
        "efcb0cb623174e9c8af55f2dac6d9893": {
          "model_module": "@jupyter-widgets/controls",
          "model_name": "HBoxModel",
          "state": {
            "_view_name": "HBoxView",
            "_dom_classes": [],
            "_model_name": "HBoxModel",
            "_view_module": "@jupyter-widgets/controls",
            "_model_module_version": "1.5.0",
            "_view_count": null,
            "_view_module_version": "1.5.0",
            "box_style": "",
            "layout": "IPY_MODEL_5cf80e17ee304999946a0f1f788964fc",
            "_model_module": "@jupyter-widgets/controls",
            "children": [
              "IPY_MODEL_e18ecb6729ee4ca382c04063d18f9636",
              "IPY_MODEL_50e54e79b7de4d88995fde118f78259f",
              "IPY_MODEL_eb6e5805cf5740edaf62a206735c61ee",
              "IPY_MODEL_88e80674acd244ee9ecc598d1bd95026"
            ]
          }
        },
        "5cf80e17ee304999946a0f1f788964fc": {
          "model_module": "@jupyter-widgets/base",
          "model_name": "LayoutModel",
          "state": {
            "_view_name": "LayoutView",
            "grid_template_rows": null,
            "right": null,
            "justify_content": null,
            "_view_module": "@jupyter-widgets/base",
            "overflow": null,
            "_model_module_version": "1.2.0",
            "_view_count": null,
            "flex_flow": null,
            "width": null,
            "min_width": null,
            "border": null,
            "align_items": null,
            "bottom": null,
            "_model_module": "@jupyter-widgets/base",
            "top": null,
            "grid_column": null,
            "overflow_y": null,
            "overflow_x": null,
            "grid_auto_flow": null,
            "grid_area": null,
            "grid_template_columns": null,
            "flex": null,
            "_model_name": "LayoutModel",
            "justify_items": null,
            "grid_row": null,
            "max_height": null,
            "align_content": null,
            "visibility": null,
            "align_self": null,
            "height": null,
            "min_height": null,
            "padding": null,
            "grid_auto_rows": null,
            "grid_gap": null,
            "max_width": null,
            "order": null,
            "_view_module_version": "1.2.0",
            "grid_template_areas": null,
            "object_position": null,
            "object_fit": null,
            "grid_auto_columns": null,
            "margin": null,
            "display": null,
            "left": null
          }
        },
        "a2f5466cd47a4d3eb59d237c5cf22df6": {
          "model_module": "@jupyter-widgets/controls",
          "model_name": "VBoxModel",
          "state": {
            "_view_name": "VBoxView",
            "_dom_classes": [],
            "_model_name": "VBoxModel",
            "_view_module": "@jupyter-widgets/controls",
            "_model_module_version": "1.5.0",
            "_view_count": null,
            "_view_module_version": "1.5.0",
            "box_style": "",
            "layout": "IPY_MODEL_e2e47b9267da477bb844a05f8e7af0d2",
            "_model_module": "@jupyter-widgets/controls",
            "children": [
              "IPY_MODEL_ecf14d15c32f46c9a26811df1f10188d",
              "IPY_MODEL_6ed6c5193b9d422f923e9c5f6ef45046",
              "IPY_MODEL_b1a1f8f29d974d3da8537f49ed903337"
            ]
          }
        },
        "e2e47b9267da477bb844a05f8e7af0d2": {
          "model_module": "@jupyter-widgets/base",
          "model_name": "LayoutModel",
          "state": {
            "_view_name": "LayoutView",
            "grid_template_rows": null,
            "right": null,
            "justify_content": null,
            "_view_module": "@jupyter-widgets/base",
            "overflow": null,
            "_model_module_version": "1.2.0",
            "_view_count": null,
            "flex_flow": "column",
            "width": "50%",
            "min_width": null,
            "border": "solid 2px",
            "align_items": "stretch",
            "bottom": null,
            "_model_module": "@jupyter-widgets/base",
            "top": null,
            "grid_column": null,
            "overflow_y": null,
            "overflow_x": null,
            "grid_auto_flow": null,
            "grid_area": null,
            "grid_template_columns": null,
            "flex": null,
            "_model_name": "LayoutModel",
            "justify_items": null,
            "grid_row": null,
            "max_height": null,
            "align_content": null,
            "visibility": null,
            "align_self": null,
            "height": null,
            "min_height": null,
            "padding": null,
            "grid_auto_rows": null,
            "grid_gap": null,
            "max_width": null,
            "order": null,
            "_view_module_version": "1.2.0",
            "grid_template_areas": null,
            "object_position": null,
            "object_fit": null,
            "grid_auto_columns": null,
            "margin": null,
            "display": "flex",
            "left": null
          }
        },
        "ecf14d15c32f46c9a26811df1f10188d": {
          "model_module": "@jupyter-widgets/controls",
          "model_name": "BoxModel",
          "state": {
            "_view_name": "BoxView",
            "_dom_classes": [],
            "_model_name": "BoxModel",
            "_view_module": "@jupyter-widgets/controls",
            "_model_module_version": "1.5.0",
            "_view_count": null,
            "_view_module_version": "1.5.0",
            "box_style": "",
            "layout": "IPY_MODEL_4e15b9eed2e54a57a56e962c83bcd6ac",
            "_model_module": "@jupyter-widgets/controls",
            "children": [
              "IPY_MODEL_da2ccf6c3104446fb7d2f54d7aebc0b0",
              "IPY_MODEL_b40ae907bd6f47129a0f31c2631b9265"
            ]
          }
        },
        "6ed6c5193b9d422f923e9c5f6ef45046": {
          "model_module": "@jupyter-widgets/controls",
          "model_name": "BoxModel",
          "state": {
            "_view_name": "BoxView",
            "_dom_classes": [],
            "_model_name": "BoxModel",
            "_view_module": "@jupyter-widgets/controls",
            "_model_module_version": "1.5.0",
            "_view_count": null,
            "_view_module_version": "1.5.0",
            "box_style": "",
            "layout": "IPY_MODEL_4e15b9eed2e54a57a56e962c83bcd6ac",
            "_model_module": "@jupyter-widgets/controls",
            "children": [
              "IPY_MODEL_efcb0cb623174e9c8af55f2dac6d9893"
            ]
          }
        },
        "b1a1f8f29d974d3da8537f49ed903337": {
          "model_module": "@jupyter-widgets/controls",
          "model_name": "BoxModel",
          "state": {
            "_view_name": "BoxView",
            "_dom_classes": [],
            "_model_name": "BoxModel",
            "_view_module": "@jupyter-widgets/controls",
            "_model_module_version": "1.5.0",
            "_view_count": null,
            "_view_module_version": "1.5.0",
            "box_style": "",
            "layout": "IPY_MODEL_4e15b9eed2e54a57a56e962c83bcd6ac",
            "_model_module": "@jupyter-widgets/controls",
            "children": [
              "IPY_MODEL_cb5ba77f51a246ff89b56b2ed055770a",
              "IPY_MODEL_af8408e45a5c41aa90f150e6e8cb39af"
            ]
          }
        },
        "4e15b9eed2e54a57a56e962c83bcd6ac": {
          "model_module": "@jupyter-widgets/base",
          "model_name": "LayoutModel",
          "state": {
            "_view_name": "LayoutView",
            "grid_template_rows": null,
            "right": null,
            "justify_content": "space-between",
            "_view_module": "@jupyter-widgets/base",
            "overflow": null,
            "_model_module_version": "1.2.0",
            "_view_count": null,
            "flex_flow": "row",
            "width": null,
            "min_width": null,
            "border": null,
            "align_items": null,
            "bottom": null,
            "_model_module": "@jupyter-widgets/base",
            "top": null,
            "grid_column": null,
            "overflow_y": null,
            "overflow_x": null,
            "grid_auto_flow": null,
            "grid_area": null,
            "grid_template_columns": null,
            "flex": null,
            "_model_name": "LayoutModel",
            "justify_items": null,
            "grid_row": null,
            "max_height": null,
            "align_content": null,
            "visibility": null,
            "align_self": null,
            "height": null,
            "min_height": null,
            "padding": null,
            "grid_auto_rows": null,
            "grid_gap": null,
            "max_width": null,
            "order": null,
            "_view_module_version": "1.2.0",
            "grid_template_areas": null,
            "object_position": null,
            "object_fit": null,
            "grid_auto_columns": null,
            "margin": null,
            "display": "flex",
            "left": null
          }
        },
        "da2ccf6c3104446fb7d2f54d7aebc0b0": {
          "model_module": "@jupyter-widgets/controls",
          "model_name": "LabelModel",
          "state": {
            "_view_name": "LabelView",
            "style": "IPY_MODEL_0ea23d4900a74e5a873b0dd41780721f",
            "_dom_classes": [],
            "description": "",
            "_model_name": "LabelModel",
            "placeholder": "​",
            "_view_module": "@jupyter-widgets/controls",
            "_model_module_version": "1.5.0",
            "value": "Unggah Gambar Mamografi Di Sini",
            "_view_count": null,
            "_view_module_version": "1.5.0",
            "description_tooltip": null,
            "_model_module": "@jupyter-widgets/controls",
            "layout": "IPY_MODEL_5c5f02467dab4afaba3c3e64465f64d7"
          }
        },
        "b40ae907bd6f47129a0f31c2631b9265": {
          "model_module": "@jupyter-widgets/controls",
          "model_name": "VBoxModel",
          "state": {
            "_view_name": "VBoxView",
            "_dom_classes": [],
            "_model_name": "VBoxModel",
            "_view_module": "@jupyter-widgets/controls",
            "_model_module_version": "1.5.0",
            "_view_count": null,
            "_view_module_version": "1.5.0",
            "box_style": "",
            "layout": "IPY_MODEL_23a0c0c9f3db4a5a894bb5841fd95a9b",
            "_model_module": "@jupyter-widgets/controls",
            "children": [
              "IPY_MODEL_04c4780c1fe145a6b891f2b009614986",
              "IPY_MODEL_5a8b7c6da4b743b8986d7a2db22cfed3"
            ]
          }
        },
        "cb5ba77f51a246ff89b56b2ed055770a": {
          "model_module": "@jupyter-widgets/controls",
          "model_name": "LabelModel",
          "state": {
            "_view_name": "LabelView",
            "style": "IPY_MODEL_76b05b53eacb4016bc2a824422951500",
            "_dom_classes": [],
            "description": "",
            "_model_name": "LabelModel",
            "placeholder": "​",
            "_view_module": "@jupyter-widgets/controls",
            "_model_module_version": "1.5.0",
            "value": "Visualisasi Mamografi",
            "_view_count": null,
            "_view_module_version": "1.5.0",
            "description_tooltip": null,
            "_model_module": "@jupyter-widgets/controls",
            "layout": "IPY_MODEL_f0432acb2fa0434f8e3532762ed7ad5f"
          }
        },
        "af8408e45a5c41aa90f150e6e8cb39af": {
          "model_module": "@jupyter-widgets/controls",
          "model_name": "VBoxModel",
          "state": {
            "_view_name": "VBoxView",
            "_dom_classes": [],
            "_model_name": "VBoxModel",
            "_view_module": "@jupyter-widgets/controls",
            "_model_module_version": "1.5.0",
            "_view_count": null,
            "_view_module_version": "1.5.0",
            "box_style": "",
            "layout": "IPY_MODEL_201d4f34442849a081844c79d588240f",
            "_model_module": "@jupyter-widgets/controls",
            "children": []
          }
        },
        "0ea23d4900a74e5a873b0dd41780721f": {
          "model_module": "@jupyter-widgets/controls",
          "model_name": "DescriptionStyleModel",
          "state": {
            "_view_name": "StyleView",
            "_model_name": "DescriptionStyleModel",
            "description_width": "",
            "_view_module": "@jupyter-widgets/base",
            "_model_module_version": "1.5.0",
            "_view_count": null,
            "_view_module_version": "1.2.0",
            "_model_module": "@jupyter-widgets/controls"
          }
        },
        "5c5f02467dab4afaba3c3e64465f64d7": {
          "model_module": "@jupyter-widgets/base",
          "model_name": "LayoutModel",
          "state": {
            "_view_name": "LayoutView",
            "grid_template_rows": null,
            "right": null,
            "justify_content": null,
            "_view_module": "@jupyter-widgets/base",
            "overflow": null,
            "_model_module_version": "1.2.0",
            "_view_count": null,
            "flex_flow": null,
            "width": null,
            "min_width": null,
            "border": null,
            "align_items": null,
            "bottom": null,
            "_model_module": "@jupyter-widgets/base",
            "top": null,
            "grid_column": null,
            "overflow_y": null,
            "overflow_x": null,
            "grid_auto_flow": null,
            "grid_area": null,
            "grid_template_columns": null,
            "flex": null,
            "_model_name": "LayoutModel",
            "justify_items": null,
            "grid_row": null,
            "max_height": null,
            "align_content": null,
            "visibility": null,
            "align_self": null,
            "height": null,
            "min_height": null,
            "padding": null,
            "grid_auto_rows": null,
            "grid_gap": null,
            "max_width": null,
            "order": null,
            "_view_module_version": "1.2.0",
            "grid_template_areas": null,
            "object_position": null,
            "object_fit": null,
            "grid_auto_columns": null,
            "margin": null,
            "display": null,
            "left": null
          }
        },
        "23a0c0c9f3db4a5a894bb5841fd95a9b": {
          "model_module": "@jupyter-widgets/base",
          "model_name": "LayoutModel",
          "state": {
            "_view_name": "LayoutView",
            "grid_template_rows": null,
            "right": null,
            "justify_content": null,
            "_view_module": "@jupyter-widgets/base",
            "overflow": null,
            "_model_module_version": "1.2.0",
            "_view_count": null,
            "flex_flow": null,
            "width": null,
            "min_width": null,
            "border": null,
            "align_items": null,
            "bottom": null,
            "_model_module": "@jupyter-widgets/base",
            "top": null,
            "grid_column": null,
            "overflow_y": null,
            "overflow_x": null,
            "grid_auto_flow": null,
            "grid_area": null,
            "grid_template_columns": null,
            "flex": null,
            "_model_name": "LayoutModel",
            "justify_items": null,
            "grid_row": null,
            "max_height": null,
            "align_content": null,
            "visibility": null,
            "align_self": null,
            "height": null,
            "min_height": null,
            "padding": null,
            "grid_auto_rows": null,
            "grid_gap": null,
            "max_width": null,
            "order": null,
            "_view_module_version": "1.2.0",
            "grid_template_areas": null,
            "object_position": null,
            "object_fit": null,
            "grid_auto_columns": null,
            "margin": null,
            "display": null,
            "left": null
          }
        },
        "04c4780c1fe145a6b891f2b009614986": {
          "model_module": "@jupyter-widgets/controls",
          "model_name": "FileUploadModel",
          "state": {
            "_view_name": "FileUploadView",
            "_counter": 1,
            "style": "IPY_MODEL_e8e546ae6d4040f68f50486a5cf1feed",
            "_dom_classes": [],
            "description": "Upload",
            "multiple": false,
            "_model_name": "FileUploadModel",
            "data": [
              null
            ],
            "button_style": "",
            "_view_module": "@jupyter-widgets/controls",
            "_model_module_version": "1.5.0",
            "accept": "image/*",
            "_view_count": null,
            "disabled": false,
            "_view_module_version": "1.5.0",
            "error": "",
            "description_tooltip": null,
            "metadata": [
              {
                "name": "Kanker_93.jpg",
                "type": "image/jpeg",
                "size": 37669,
                "lastModified": 1598042734000
              }
            ],
            "_model_module": "@jupyter-widgets/controls",
            "layout": "IPY_MODEL_d92e66a2d5a84bdcb38dc754643b9219",
            "icon": "upload"
          }
        },
        "5a8b7c6da4b743b8986d7a2db22cfed3": {
          "model_module": "@jupyter-widgets/controls",
          "model_name": "VBoxModel",
          "state": {
            "_view_name": "VBoxView",
            "_dom_classes": [],
            "_model_name": "VBoxModel",
            "_view_module": "@jupyter-widgets/controls",
            "_model_module_version": "1.5.0",
            "_view_count": null,
            "_view_module_version": "1.5.0",
            "box_style": "",
            "layout": "IPY_MODEL_427a775923d646639873af1e7fb2658b",
            "_model_module": "@jupyter-widgets/controls",
            "children": []
          }
        },
        "76b05b53eacb4016bc2a824422951500": {
          "model_module": "@jupyter-widgets/controls",
          "model_name": "DescriptionStyleModel",
          "state": {
            "_view_name": "StyleView",
            "_model_name": "DescriptionStyleModel",
            "description_width": "",
            "_view_module": "@jupyter-widgets/base",
            "_model_module_version": "1.5.0",
            "_view_count": null,
            "_view_module_version": "1.2.0",
            "_model_module": "@jupyter-widgets/controls"
          }
        },
        "f0432acb2fa0434f8e3532762ed7ad5f": {
          "model_module": "@jupyter-widgets/base",
          "model_name": "LayoutModel",
          "state": {
            "_view_name": "LayoutView",
            "grid_template_rows": null,
            "right": null,
            "justify_content": null,
            "_view_module": "@jupyter-widgets/base",
            "overflow": null,
            "_model_module_version": "1.2.0",
            "_view_count": null,
            "flex_flow": null,
            "width": null,
            "min_width": null,
            "border": null,
            "align_items": null,
            "bottom": null,
            "_model_module": "@jupyter-widgets/base",
            "top": null,
            "grid_column": null,
            "overflow_y": null,
            "overflow_x": null,
            "grid_auto_flow": null,
            "grid_area": null,
            "grid_template_columns": null,
            "flex": null,
            "_model_name": "LayoutModel",
            "justify_items": null,
            "grid_row": null,
            "max_height": null,
            "align_content": null,
            "visibility": null,
            "align_self": null,
            "height": null,
            "min_height": null,
            "padding": null,
            "grid_auto_rows": null,
            "grid_gap": null,
            "max_width": null,
            "order": null,
            "_view_module_version": "1.2.0",
            "grid_template_areas": null,
            "object_position": null,
            "object_fit": null,
            "grid_auto_columns": null,
            "margin": null,
            "display": null,
            "left": null
          }
        },
        "201d4f34442849a081844c79d588240f": {
          "model_module": "@jupyter-widgets/base",
          "model_name": "LayoutModel",
          "state": {
            "_view_name": "LayoutView",
            "grid_template_rows": null,
            "right": null,
            "justify_content": null,
            "_view_module": "@jupyter-widgets/base",
            "overflow": null,
            "_model_module_version": "1.2.0",
            "_view_count": null,
            "flex_flow": null,
            "width": null,
            "min_width": null,
            "border": null,
            "align_items": null,
            "bottom": null,
            "_model_module": "@jupyter-widgets/base",
            "top": null,
            "grid_column": null,
            "overflow_y": null,
            "overflow_x": null,
            "grid_auto_flow": null,
            "grid_area": null,
            "grid_template_columns": null,
            "flex": null,
            "_model_name": "LayoutModel",
            "justify_items": null,
            "grid_row": null,
            "max_height": null,
            "align_content": null,
            "visibility": null,
            "align_self": null,
            "height": null,
            "min_height": null,
            "padding": null,
            "grid_auto_rows": null,
            "grid_gap": null,
            "max_width": null,
            "order": null,
            "_view_module_version": "1.2.0",
            "grid_template_areas": null,
            "object_position": null,
            "object_fit": null,
            "grid_auto_columns": null,
            "margin": null,
            "display": null,
            "left": null
          }
        },
        "e8e546ae6d4040f68f50486a5cf1feed": {
          "model_module": "@jupyter-widgets/controls",
          "model_name": "ButtonStyleModel",
          "state": {
            "_view_name": "StyleView",
            "_model_name": "ButtonStyleModel",
            "_view_module": "@jupyter-widgets/base",
            "_model_module_version": "1.5.0",
            "_view_count": null,
            "button_color": null,
            "font_weight": "",
            "_view_module_version": "1.2.0",
            "_model_module": "@jupyter-widgets/controls"
          }
        },
        "d92e66a2d5a84bdcb38dc754643b9219": {
          "model_module": "@jupyter-widgets/base",
          "model_name": "LayoutModel",
          "state": {
            "_view_name": "LayoutView",
            "grid_template_rows": null,
            "right": null,
            "justify_content": null,
            "_view_module": "@jupyter-widgets/base",
            "overflow": null,
            "_model_module_version": "1.2.0",
            "_view_count": null,
            "flex_flow": null,
            "width": null,
            "min_width": null,
            "border": null,
            "align_items": null,
            "bottom": null,
            "_model_module": "@jupyter-widgets/base",
            "top": null,
            "grid_column": null,
            "overflow_y": null,
            "overflow_x": null,
            "grid_auto_flow": null,
            "grid_area": null,
            "grid_template_columns": null,
            "flex": null,
            "_model_name": "LayoutModel",
            "justify_items": null,
            "grid_row": null,
            "max_height": null,
            "align_content": null,
            "visibility": null,
            "align_self": null,
            "height": null,
            "min_height": null,
            "padding": null,
            "grid_auto_rows": null,
            "grid_gap": null,
            "max_width": null,
            "order": null,
            "_view_module_version": "1.2.0",
            "grid_template_areas": null,
            "object_position": null,
            "object_fit": null,
            "grid_auto_columns": null,
            "margin": null,
            "display": null,
            "left": null
          }
        },
        "427a775923d646639873af1e7fb2658b": {
          "model_module": "@jupyter-widgets/base",
          "model_name": "LayoutModel",
          "state": {
            "_view_name": "LayoutView",
            "grid_template_rows": null,
            "right": null,
            "justify_content": null,
            "_view_module": "@jupyter-widgets/base",
            "overflow": null,
            "_model_module_version": "1.2.0",
            "_view_count": null,
            "flex_flow": null,
            "width": null,
            "min_width": null,
            "border": null,
            "align_items": null,
            "bottom": null,
            "_model_module": "@jupyter-widgets/base",
            "top": null,
            "grid_column": null,
            "overflow_y": null,
            "overflow_x": null,
            "grid_auto_flow": null,
            "grid_area": null,
            "grid_template_columns": null,
            "flex": null,
            "_model_name": "LayoutModel",
            "justify_items": null,
            "grid_row": null,
            "max_height": null,
            "align_content": null,
            "visibility": null,
            "align_self": null,
            "height": null,
            "min_height": null,
            "padding": null,
            "grid_auto_rows": null,
            "grid_gap": null,
            "max_width": null,
            "order": null,
            "_view_module_version": "1.2.0",
            "grid_template_areas": null,
            "object_position": null,
            "object_fit": null,
            "grid_auto_columns": null,
            "margin": null,
            "display": null,
            "left": null
          }
        }
      }
    }
  },
  "cells": [
    {
      "cell_type": "markdown",
      "metadata": {
        "id": "view-in-github",
        "colab_type": "text"
      },
      "source": [
        "<a href=\"https://colab.research.google.com/github/azizahregina/CNN/blob/master/1checkbox_template.ipynb\" target=\"_parent\"><img src=\"https://colab.research.google.com/assets/colab-badge.svg\" alt=\"Open In Colab\"/></a>"
      ]
    },
    {
      "cell_type": "code",
      "metadata": {
        "colab_type": "code",
        "id": "WVRCl2KgpKwc",
        "colab": {}
      },
      "source": [
        "from ipywidgets import Layout, Button, Box, FileUpload, Label, Checkbox\n",
        "import ipywidgets as widgets\n",
        "from IPython.display import display\n",
        " \n",
        "import threading\n",
        "import time\n",
        " \n",
        "# uploader to image cv2\n",
        "import numpy as np\n",
        "import cv2\n",
        "import matplotlib.pyplot as plt\n",
        " \n",
        "import os"
      ],
      "execution_count": null,
      "outputs": []
    },
    {
      "cell_type": "code",
      "metadata": {
        "colab_type": "code",
        "id": "jAMOIM6HpKxD",
        "colab": {}
      },
      "source": [
        "#define flag\n",
        "thread_status = True"
      ],
      "execution_count": null,
      "outputs": []
    },
    {
      "cell_type": "code",
      "metadata": {
        "colab_type": "code",
        "id": "d0GoBAXqpKxV",
        "colab": {}
      },
      "source": [
        "# uploader\n",
        "uploader = widgets.FileUpload(\n",
        "    accept='image/*',  # Accepted file extension e.g. '.txt', '.pdf', 'image/*', 'image/*,.pdf'\n",
        "    multiple=False  # True to accept multiple files upload else False\n",
        "    )"
      ],
      "execution_count": null,
      "outputs": []
    },
    {
      "cell_type": "code",
      "metadata": {
        "colab_type": "code",
        "id": "2aTaO43BZjsf",
        "colab": {}
      },
      "source": [
        "# uploader container\n",
        "image_container_raw = widgets.VBox(\n",
        "    children = ()\n",
        ")"
      ],
      "execution_count": null,
      "outputs": []
    },
    {
      "cell_type": "code",
      "metadata": {
        "colab_type": "code",
        "id": "VI1l-Ur5Zl9K",
        "colab": {}
      },
      "source": [
        "# wrapper\n",
        "app = widgets.VBox(\n",
        "    children = (uploader, image_container_raw)\n",
        ")"
      ],
      "execution_count": null,
      "outputs": []
    },
    {
      "cell_type": "code",
      "metadata": {
        "colab_type": "code",
        "id": "AbLGEARGZnp1",
        "colab": {}
      },
      "source": [
        "# uploader image content and extension\n",
        "def get_content_and_extension(uploader):    \n",
        "    for _, value in uploader.value.items():\n",
        "        return value['content'], value['metadata']['name'].split('.')[-1]"
      ],
      "execution_count": null,
      "outputs": []
    },
    {
      "cell_type": "code",
      "metadata": {
        "colab_type": "code",
        "id": "vZGRyOCfpKy1",
        "colab": {}
      },
      "source": [
        "# image widget from uploader\n",
        "def image_widget_from_uploader(uploader):\n",
        "    if uploader.value:\n",
        "        file_content, file_extension = get_content_and_extension(uploader)\n",
        "        return widgets.Image(value=file_content, format=file_extension)\n",
        "    # else:\n",
        "    #     warnings.warn(\"NO IMAGE HAS BEEN UPLOADED\", category=Warning)\n",
        "    #     return widgets.Image()"
      ],
      "execution_count": null,
      "outputs": []
    },
    {
      "cell_type": "code",
      "metadata": {
        "colab_type": "code",
        "id": "TTGk-8OzZxRY",
        "colab": {}
      },
      "source": [
        "# image numpy from uploader\n",
        "def image_numpy_from_uploader(uploader):\n",
        "    file_content, extension = get_content_and_extension(uploader)\n",
        "    arr_from_buf = np.frombuffer(file_content, np.uint8)\n",
        "    image_numpy = cv2.imdecode(arr_from_buf, cv2.IMREAD_COLOR)\n",
        "    return image_numpy, extension"
      ],
      "execution_count": null,
      "outputs": []
    },
    {
      "cell_type": "code",
      "metadata": {
        "colab_type": "code",
        "id": "-oRWXVZVZz5-",
        "colab": {}
      },
      "source": [
        "# image numpy from uploader\n",
        "def image_numpy_from_uploader_individual(uploader):\n",
        "    file_content, extension = get_content_and_extension(uploader)\n",
        "    arr_from_buf = np.frombuffer(file_content, np.uint8)\n",
        "    image_numpy_individual = cv2.imdecode(arr_from_buf, cv2.IMREAD_COLOR)\n",
        "    return image_numpy_individual, extension"
      ],
      "execution_count": null,
      "outputs": []
    },
    {
      "cell_type": "code",
      "metadata": {
        "colab_type": "code",
        "id": "J7UoVScjZ2Uf",
        "colab": {}
      },
      "source": [
        "# image widget from image numpy\n",
        "def image_widget_from_numpy(image_numpy, extension):\n",
        "    _, encoded_image = cv2.imencode('.'+extension, image_numpy,)\n",
        "    image_bytes = encoded_image.tobytes()\n",
        "    return widgets.Image(value=image_bytes, format=extension)"
      ],
      "execution_count": null,
      "outputs": []
    },
    {
      "cell_type": "code",
      "metadata": {
        "colab_type": "code",
        "id": "_zV1A2qsZ6HL",
        "colab": {}
      },
      "source": [
        "# image widget from image numpy\n",
        "def image_widget_from_numpy_individual(image_numpy_individual, extension):\n",
        "    _, encoded_image = cv2.imencode('.'+extension, image_numpy_individual,)\n",
        "    image_bytes = encoded_image.tobytes()\n",
        "    return widgets.Image(value=image_bytes, format=extension)"
      ],
      "execution_count": null,
      "outputs": []
    },
    {
      "cell_type": "code",
      "metadata": {
        "id": "oOOi1rC6cAS_",
        "colab_type": "code",
        "colab": {}
      },
      "source": [
        "# individual preprocessing\n",
        "def prepro_greyscale(image_numpy_individual):\n",
        "    greyscaled_image = cv2.cvtColor(image_numpy_individual, cv2.COLOR_BGR2GRAY)\n",
        "    visual_greyscale_image = widgets.Image(greyscaled_image)\n",
        "    label_greyscale = widgets.VBox([widgets.Label(value='greyscaled_image'), visual_greyscale_image])\n",
        "    return label_greyscale"
      ],
      "execution_count": null,
      "outputs": []
    },
    {
      "cell_type": "code",
      "metadata": {
        "id": "fNRsQPZpcaHp",
        "colab_type": "code",
        "colab": {}
      },
      "source": [
        "def prepro_resize(image_numpy_individual,resize_w=512,resize_l=512):\n",
        "    resized_image = cv2.resize(image_numpy_individual,(resize_w,resize_l))\n",
        "    visual_resize_image = widgets.Image(resized_image)\n",
        "    label_resize = widgets.VBox([widgets.Label(value='resized_image'), visual_resize_image])\n",
        "    return label_resize"
      ],
      "execution_count": null,
      "outputs": []
    },
    {
      "cell_type": "code",
      "metadata": {
        "id": "7eUGvkQvezmz",
        "colab_type": "code",
        "colab": {}
      },
      "source": [
        "def prepro_normalize(image_numpy_individual,resize_w=512,resize_l=512):\n",
        "    out_arr = np.zeros((resize_w,resize_l))\n",
        "    normalized_image = cv2.normalize(image_numpy_individual, out_arr, 0, 255, cv2.NORM_MINMAX)\n",
        "    visual_normalize_image = widgets.Image(normalized_image)\n",
        "    label_normalized = widgets.VBox([widgets.Label(value='normalized_image'), visual_normalize_image])\n",
        "    return label_normalized\n"
      ],
      "execution_count": null,
      "outputs": []
    },
    {
      "cell_type": "code",
      "metadata": {
        "colab_type": "code",
        "id": "eNdy4hzTZ-G5",
        "colab": {}
      },
      "source": [
        "def prepro_gaussian(image_numpy_individual):\n",
        "    gaussian_image = image_numpy_individual - cv2.GaussianBlur(image_numpy_individual,(5, 5), 0)\n",
        "    visual_gaussian_image = widgets.Image(gaussian_image)\n",
        "    label_gaussian = widgets.VBox([widgets.Label(value='gaussian_image'), visual_gaussian_image])\n",
        "    return label_gaussian"
      ],
      "execution_count": null,
      "outputs": []
    },
    {
      "cell_type": "code",
      "metadata": {
        "colab_type": "code",
        "id": "6Y8RNT6gpKyH",
        "colab": {}
      },
      "source": [
        "# processing_button = widgets.Button(\n",
        "#     description='Mulai',\n",
        "#     disabled=False,\n",
        "#     button_style='', # 'success', 'info', 'warning', 'danger' or ''\n",
        "#     tooltip='Click me',\n",
        "#     icon='check' # (FontAwesome names without the `fa-` prefix)\n",
        "#     )\n",
        "\n",
        "# result_button = widgets.Button(\n",
        "#     description='Normal',\n",
        "#     disabled=True,\n",
        "#     button_style='', # 'success', 'info', 'warning', 'danger' or ''\n",
        "#     tooltip='Click me',\n",
        "#     icon='check' # (FontAwesome names without the `fa-` prefix)\n",
        "#     )"
      ],
      "execution_count": null,
      "outputs": []
    },
    {
      "cell_type": "code",
      "metadata": {
        "colab_type": "code",
        "id": "ZvQAS0teZ75E",
        "colab": {}
      },
      "source": [
        "# def preprocessing_uploaded_image(image_numpy,to_greyscale=True,to_resize=False,resize_w=80,resize_l=80,to_normalize=True,to_gaussian_filter=True):\n",
        "#     if to_greyscale:\n",
        "#         image_numpy= prepro_greyscale(image_numpy)\n",
        "#     if to_resize:\n",
        "#         image_numpy= prepro_resize(image_numpy,resize_w=resize_w,resize_l=resize_l)\n",
        "#     if to_normalize:\n",
        "#         out_arr = np.zeros((resize_w,resize_l))\n",
        "#         image_numpy= cv2.normalize(image_numpy, out_arr, 0, 255, cv2.NORM_MINMAX)\n",
        "#     if to_gaussian_filter:\n",
        "#         image_numpy = image_numpy - cv2.GaussianBlur(image_numpy, (5,5), 0)\n",
        "#     return image_numpy\n",
        "    "
      ],
      "execution_count": null,
      "outputs": []
    },
    {
      "cell_type": "code",
      "metadata": {
        "colab_type": "code",
        "id": "9y253zXvswU3",
        "colab": {
          "base_uri": "https://localhost:8080/",
          "height": 139,
          "referenced_widgets": [
            "e18ecb6729ee4ca382c04063d18f9636",
            "570cf76a1cb04e139afac7cd3ec1c90c",
            "383a503958024f599d662b819dbbc1dc",
            "50e54e79b7de4d88995fde118f78259f",
            "cc49e5596c9b420b8bfb068dcfb8ec40",
            "ae3cfbbb4dee455b800172a7d6921c1f",
            "eb6e5805cf5740edaf62a206735c61ee",
            "08ba1cdb462a4bd5b7775a17227732bd",
            "9c2c1204e30f47e49b2f5c0840a665a6",
            "88e80674acd244ee9ecc598d1bd95026",
            "86966b506c8047cd9849b38fd54ef614",
            "ee6236bfcf8545d49538dc28f352d69a"
          ]
        },
        "outputId": "f8f98db7-da83-4f5f-a205-851c663fa4eb"
      },
      "source": [
        "checkbox_greyscale = widgets.Checkbox(\n",
        "    value=True,\n",
        "    description='greyscale',\n",
        "    disabled=False,\n",
        "    indent=False\n",
        ")\n",
        "checkbox_resize = widgets.Checkbox(\n",
        "    value=True,\n",
        "    description='resize',\n",
        "    disabled=False,\n",
        "    indent=False\n",
        ")\n",
        "checkbox_normalize = widgets.Checkbox(\n",
        "    value=True,\n",
        "    description='normalize',\n",
        "    disabled=False,\n",
        "    indent=False\n",
        ")\n",
        "checkbox_gaussian_filter = widgets.Checkbox(\n",
        "    value=True,\n",
        "    description='gaussian',\n",
        "    disabled=False,\n",
        "    indent=False\n",
        ")\n",
        "display(checkbox_greyscale)\n",
        "display(checkbox_resize)\n",
        "display(checkbox_normalize)\n",
        "display(checkbox_gaussian_filter)"
      ],
      "execution_count": null,
      "outputs": [
        {
          "output_type": "display_data",
          "data": {
            "application/vnd.jupyter.widget-view+json": {
              "model_id": "e18ecb6729ee4ca382c04063d18f9636",
              "version_minor": 0,
              "version_major": 2
            },
            "text/plain": [
              "Checkbox(value=True, description='greyscale', indent=False)"
            ]
          },
          "metadata": {
            "tags": []
          }
        },
        {
          "output_type": "display_data",
          "data": {
            "application/vnd.jupyter.widget-view+json": {
              "model_id": "50e54e79b7de4d88995fde118f78259f",
              "version_minor": 0,
              "version_major": 2
            },
            "text/plain": [
              "Checkbox(value=True, description='resize', indent=False)"
            ]
          },
          "metadata": {
            "tags": []
          }
        },
        {
          "output_type": "display_data",
          "data": {
            "application/vnd.jupyter.widget-view+json": {
              "model_id": "eb6e5805cf5740edaf62a206735c61ee",
              "version_minor": 0,
              "version_major": 2
            },
            "text/plain": [
              "Checkbox(value=True, description='normalize', indent=False)"
            ]
          },
          "metadata": {
            "tags": []
          }
        },
        {
          "output_type": "display_data",
          "data": {
            "application/vnd.jupyter.widget-view+json": {
              "model_id": "88e80674acd244ee9ecc598d1bd95026",
              "version_minor": 0,
              "version_major": 2
            },
            "text/plain": [
              "Checkbox(value=True, description='gaussian', indent=False)"
            ]
          },
          "metadata": {
            "tags": []
          }
        }
      ]
    },
    {
      "cell_type": "code",
      "metadata": {
        "id": "32qeX3FqYeeq",
        "colab_type": "code",
        "colab": {
          "base_uri": "https://localhost:8080/",
          "height": 49,
          "referenced_widgets": [
            "efcb0cb623174e9c8af55f2dac6d9893",
            "5cf80e17ee304999946a0f1f788964fc",
            "e18ecb6729ee4ca382c04063d18f9636",
            "50e54e79b7de4d88995fde118f78259f",
            "eb6e5805cf5740edaf62a206735c61ee",
            "88e80674acd244ee9ecc598d1bd95026",
            "570cf76a1cb04e139afac7cd3ec1c90c",
            "383a503958024f599d662b819dbbc1dc",
            "cc49e5596c9b420b8bfb068dcfb8ec40",
            "ae3cfbbb4dee455b800172a7d6921c1f",
            "08ba1cdb462a4bd5b7775a17227732bd",
            "9c2c1204e30f47e49b2f5c0840a665a6",
            "86966b506c8047cd9849b38fd54ef614",
            "ee6236bfcf8545d49538dc28f352d69a"
          ]
        },
        "outputId": "eaf8c086-6134-4a81-e080-15a289abe531"
      },
      "source": [
        "checkboxes = widgets.HBox(\n",
        "    children = (checkbox_greyscale, checkbox_resize, checkbox_normalize, checkbox_gaussian_filter)\n",
        ")\n",
        "display(checkboxes)"
      ],
      "execution_count": null,
      "outputs": [
        {
          "output_type": "display_data",
          "data": {
            "application/vnd.jupyter.widget-view+json": {
              "model_id": "efcb0cb623174e9c8af55f2dac6d9893",
              "version_minor": 0,
              "version_major": 2
            },
            "text/plain": [
              "HBox(children=(Checkbox(value=True, description='greyscale', indent=False), Checkbox(value=True, description='…"
            ]
          },
          "metadata": {
            "tags": []
          }
        }
      ]
    },
    {
      "cell_type": "code",
      "metadata": {
        "colab_type": "code",
        "id": "flLC7M9zNiVG",
        "colab": {}
      },
      "source": [
        "# checkbox_greyscale(prepro_greyscale)\n",
        "# checkbox_resize(prepro_resize)"
      ],
      "execution_count": null,
      "outputs": []
    },
    {
      "cell_type": "code",
      "metadata": {
        "colab_type": "code",
        "id": "SmZvkwIys0Yc",
        "colab": {}
      },
      "source": [
        "# # checkboxes wrapper\n",
        "# checkboxes = ((checkbox_preprocessing),\n",
        "#               layout = widgets.Layout(width='500px')\n",
        "# )"
      ],
      "execution_count": null,
      "outputs": []
    },
    {
      "cell_type": "code",
      "metadata": {
        "id": "7m8vE8KpYefF",
        "colab_type": "code",
        "colab": {}
      },
      "source": [
        "image_container_prepro = widgets.VBox(\n",
        "    children = ()\n",
        ")"
      ],
      "execution_count": null,
      "outputs": []
    },
    {
      "cell_type": "code",
      "metadata": {
        "colab_type": "code",
        "id": "cQ3jVIb1pKyX",
        "colab": {
          "base_uri": "https://localhost:8080/",
          "height": 117,
          "referenced_widgets": [
            "a2f5466cd47a4d3eb59d237c5cf22df6",
            "e2e47b9267da477bb844a05f8e7af0d2",
            "ecf14d15c32f46c9a26811df1f10188d",
            "6ed6c5193b9d422f923e9c5f6ef45046",
            "b1a1f8f29d974d3da8537f49ed903337",
            "4e15b9eed2e54a57a56e962c83bcd6ac",
            "da2ccf6c3104446fb7d2f54d7aebc0b0",
            "b40ae907bd6f47129a0f31c2631b9265",
            "efcb0cb623174e9c8af55f2dac6d9893",
            "cb5ba77f51a246ff89b56b2ed055770a",
            "af8408e45a5c41aa90f150e6e8cb39af",
            "0ea23d4900a74e5a873b0dd41780721f",
            "5c5f02467dab4afaba3c3e64465f64d7",
            "23a0c0c9f3db4a5a894bb5841fd95a9b",
            "04c4780c1fe145a6b891f2b009614986",
            "5a8b7c6da4b743b8986d7a2db22cfed3",
            "5cf80e17ee304999946a0f1f788964fc",
            "e18ecb6729ee4ca382c04063d18f9636",
            "50e54e79b7de4d88995fde118f78259f",
            "eb6e5805cf5740edaf62a206735c61ee",
            "88e80674acd244ee9ecc598d1bd95026",
            "76b05b53eacb4016bc2a824422951500",
            "f0432acb2fa0434f8e3532762ed7ad5f",
            "201d4f34442849a081844c79d588240f",
            "e8e546ae6d4040f68f50486a5cf1feed",
            "d92e66a2d5a84bdcb38dc754643b9219",
            "427a775923d646639873af1e7fb2658b",
            "570cf76a1cb04e139afac7cd3ec1c90c",
            "383a503958024f599d662b819dbbc1dc",
            "cc49e5596c9b420b8bfb068dcfb8ec40",
            "ae3cfbbb4dee455b800172a7d6921c1f",
            "08ba1cdb462a4bd5b7775a17227732bd",
            "9c2c1204e30f47e49b2f5c0840a665a6",
            "86966b506c8047cd9849b38fd54ef614",
            "ee6236bfcf8545d49538dc28f352d69a"
          ]
        },
        "outputId": "4a8dd3b3-8128-445e-8acb-560e95bc5938"
      },
      "source": [
        "form_item_layout = Layout(\n",
        "    display='flex',\n",
        "    flex_flow='row',\n",
        "    justify_content='space-between'\n",
        ")\n",
        "\n",
        "form_items = [\n",
        "    Box([Label(value='Unggah Gambar Mamografi Di Sini'), app], layout=form_item_layout),\n",
        "#     Box([Label(value='Hasil'), chekcbox_preprocessing], layout=form_item_layout),\n",
        "    Box(children = (checkboxes,), layout=form_item_layout),\n",
        "    Box([Label(value='Visualisasi Mamografi'), image_container_prepro], layout=form_item_layout)\n",
        "    # Box([Label(value='Proses Analisis Gambar'), processing_button], layout=form_item_layout),\n",
        "]\n",
        "\n",
        "form = widgets.VBox(form_items, layout=Layout(\n",
        "    display='flex',\n",
        "    flex_flow='column',\n",
        "    border='solid 2px',\n",
        "    align_items='stretch',\n",
        "    width='50%'\n",
        "))\n",
        "display(form)"
      ],
      "execution_count": null,
      "outputs": [
        {
          "output_type": "display_data",
          "data": {
            "application/vnd.jupyter.widget-view+json": {
              "model_id": "a2f5466cd47a4d3eb59d237c5cf22df6",
              "version_minor": 0,
              "version_major": 2
            },
            "text/plain": [
              "VBox(children=(Box(children=(Label(value='Unggah Gambar Mamografi Di Sini'), VBox(children=(FileUpload(value={…"
            ]
          },
          "metadata": {
            "tags": []
          }
        }
      ]
    },
    {
      "cell_type": "code",
      "metadata": {
        "colab_type": "code",
        "id": "GPe2cZVesYRG",
        "colab": {}
      },
      "source": [
        "# all = widgets.VBox(\n",
        "#     children = (form, app)\n",
        "# )\n",
        "# display(all)"
      ],
      "execution_count": null,
      "outputs": []
    },
    {
      "cell_type": "code",
      "metadata": {
        "colab_type": "code",
        "id": "YMLMRYdopKzO",
        "colab": {}
      },
      "source": [
        "# main loop\n",
        "def work():\n",
        "\n",
        "    global thread_status\n",
        "\n",
        "    \n",
        "    # semua *input* dari user dilist di sini\n",
        "    current_state =[\n",
        "        checkbox_greyscale.value,\n",
        "        checkbox_resize.value,\n",
        "        checkbox_normalize.value,\n",
        "        checkbox_gaussian_filter.value,\n",
        "        \n",
        "        uploader.value\n",
        "    ]\n",
        "    \n",
        "    while thread_status:\n",
        "        \n",
        "        # check if there is a change in uploader.value\n",
        "        if current_state != [\n",
        "            checkbox_greyscale.value,\n",
        "            checkbox_resize.value,\n",
        "            checkbox_normalize.value,\n",
        "            checkbox_gaussian_filter.value,\n",
        "\n",
        "            uploader.value\n",
        "        ]:\n",
        "            \n",
        "            # renew state reference\n",
        "            current_state = [\n",
        "                checkbox_greyscale.value,\n",
        "                checkbox_resize.value,\n",
        "                checkbox_normalize.value,\n",
        "                checkbox_gaussian_filter.value,\n",
        "\n",
        "                uploader.value\n",
        "            ]\n",
        "            \n",
        "            \n",
        "            # image widget from uploader\n",
        "            image_widget_raw = image_widget_from_uploader(uploader)\n",
        "            \n",
        "            # renew container_raw\n",
        "            image_container_raw.children = (image_widget_raw,)\n",
        "\n",
        "            # read image numpy\n",
        "            image_numpy_individual, extension = image_numpy_from_uploader_individual(uploader)\n",
        "\n",
        "            # preprocess numpy\n",
        "            if checkbox_greyscale.value:\n",
        "              image_numpy_grayscale = prepro_greyscale(image_numpy_individual)\n",
        "            if checkbox_resize.value:\n",
        "              image_numpy_resize    = prepro_resize(image_numpy_individual,resize_w=512,resize_l=512)\n",
        "            if checkbox_normalize.value:\n",
        "              image_numpy_normalize = prepro_normalize(image_numpy_individual,resize_w=512,resize_l=512)\n",
        "            if checkbox_gaussian_filter.value:\n",
        "              image_numpy_gaussian  = prepro_gaussian(image_numpy_individual)\n",
        "\n",
        "            print(greyscale_image)\n",
        "            \n",
        "\n",
        "            #numpy to widget\n",
        "            if checkbox_greyscale.value:\n",
        "              image_widget_grayscale_individual = image_widget_from_numpy(image_numpy_grayscale, extension)\n",
        "            if checkbox_resize.value:\n",
        "              image_widget_resize_individual    = image_widget_from_numpy(image_numpy_resize, extension)\n",
        "            if checkbox_normalize.value:\n",
        "              image_widget_normalize_individual = image_widget_from_numpy(image_numpy_normalize, extension)\n",
        "            if checkbox_gaussian_filter.value:\n",
        "              image_widget_gaussian_individual  = image_widget_from_numpy(image_numpy_gaussian, extension)\n",
        "\n",
        "            ### gak rapi zizaaah, pake list append dan tupple unpack caranya: ###\n",
        "            temp_list = []\n",
        "            if checkbox_greyscale.value:\n",
        "                temp_list.append(image_widget_grayscale_individual)\n",
        "            if checkbox_resize.value:\n",
        "                temp_list.append(image_widget_resize_individual)\n",
        "            if checkbox_normalize.value:\n",
        "                temp_list.append(image_widget_normalize_individual)\n",
        "            if checkbox_gaussian_filter.value:\n",
        "                temp_list.append(image_widget_gaussian_individual)\n",
        "                \n",
        "            image_container_prepro.children = (*temp_list,)\n",
        "\n",
        "        print(greyscaled_image)\n",
        "       \n",
        "        # sleep for threading\n",
        "        time.sleep(0.05)\n",
        "        \n",
        "        # exit flag from threading\n",
        "        if thread_status == False:\n",
        "              break"
      ],
      "execution_count": null,
      "outputs": []
    },
    {
      "cell_type": "code",
      "metadata": {
        "colab_type": "code",
        "id": "G0SKc9qGpKzj",
        "colab": {
          "base_uri": "https://localhost:8080/",
          "height": 170
        },
        "outputId": "1c9b6e97-28e4-422a-8a1c-2433001da17e"
      },
      "source": [
        "# restart thread_status\n",
        "thread_status = False\n",
        "thread_status = True\n",
        "\n",
        "# create thread\n",
        "thread = threading.Thread(target=work)\n",
        "\n",
        "# start thread\n",
        "thread.start()"
      ],
      "execution_count": null,
      "outputs": [
        {
          "output_type": "stream",
          "text": [
            "Exception in thread Thread-15:\n",
            "Traceback (most recent call last):\n",
            "  File \"/usr/lib/python3.6/threading.py\", line 916, in _bootstrap_inner\n",
            "    self.run()\n",
            "  File \"/usr/lib/python3.6/threading.py\", line 864, in run\n",
            "    self._target(*self._args, **self._kwargs)\n",
            "  File \"<ipython-input-433-d716e87de972>\", line 85, in work\n",
            "    print(greyscaled_image)\n",
            "NameError: name 'greyscaled_image' is not defined\n"
          ],
          "name": "stderr"
        }
      ]
    },
    {
      "cell_type": "code",
      "metadata": {
        "colab_type": "code",
        "id": "CG5TXwPlpdqD",
        "colab": {
          "base_uri": "https://localhost:8080/",
          "height": 134,
          "referenced_widgets": [
            "a2f5466cd47a4d3eb59d237c5cf22df6",
            "e2e47b9267da477bb844a05f8e7af0d2",
            "ecf14d15c32f46c9a26811df1f10188d",
            "6ed6c5193b9d422f923e9c5f6ef45046",
            "b1a1f8f29d974d3da8537f49ed903337",
            "4e15b9eed2e54a57a56e962c83bcd6ac",
            "da2ccf6c3104446fb7d2f54d7aebc0b0",
            "b40ae907bd6f47129a0f31c2631b9265",
            "efcb0cb623174e9c8af55f2dac6d9893",
            "cb5ba77f51a246ff89b56b2ed055770a",
            "af8408e45a5c41aa90f150e6e8cb39af",
            "0ea23d4900a74e5a873b0dd41780721f",
            "5c5f02467dab4afaba3c3e64465f64d7",
            "23a0c0c9f3db4a5a894bb5841fd95a9b",
            "04c4780c1fe145a6b891f2b009614986",
            "5a8b7c6da4b743b8986d7a2db22cfed3",
            "5cf80e17ee304999946a0f1f788964fc",
            "e18ecb6729ee4ca382c04063d18f9636",
            "50e54e79b7de4d88995fde118f78259f",
            "eb6e5805cf5740edaf62a206735c61ee",
            "88e80674acd244ee9ecc598d1bd95026",
            "76b05b53eacb4016bc2a824422951500",
            "f0432acb2fa0434f8e3532762ed7ad5f",
            "201d4f34442849a081844c79d588240f",
            "e8e546ae6d4040f68f50486a5cf1feed",
            "d92e66a2d5a84bdcb38dc754643b9219",
            "427a775923d646639873af1e7fb2658b",
            "570cf76a1cb04e139afac7cd3ec1c90c",
            "383a503958024f599d662b819dbbc1dc",
            "cc49e5596c9b420b8bfb068dcfb8ec40",
            "ae3cfbbb4dee455b800172a7d6921c1f",
            "08ba1cdb462a4bd5b7775a17227732bd",
            "9c2c1204e30f47e49b2f5c0840a665a6",
            "86966b506c8047cd9849b38fd54ef614",
            "ee6236bfcf8545d49538dc28f352d69a"
          ]
        },
        "outputId": "f9b378bb-3970-4ee7-cc31-ff56f6f5ea06"
      },
      "source": [
        "form"
      ],
      "execution_count": null,
      "outputs": [
        {
          "output_type": "stream",
          "text": [
            "\n"
          ],
          "name": "stderr"
        },
        {
          "output_type": "display_data",
          "data": {
            "application/vnd.jupyter.widget-view+json": {
              "model_id": "a2f5466cd47a4d3eb59d237c5cf22df6",
              "version_minor": 0,
              "version_major": 2
            },
            "text/plain": [
              "VBox(children=(Box(children=(Label(value='Unggah Gambar Mamografi Di Sini'), VBox(children=(FileUpload(value={…"
            ]
          },
          "metadata": {
            "tags": []
          }
        }
      ]
    },
    {
      "cell_type": "code",
      "metadata": {
        "id": "sqA8Eof0YegX",
        "colab_type": "code",
        "colab": {}
      },
      "source": [
        ""
      ],
      "execution_count": null,
      "outputs": []
    }
  ]
}